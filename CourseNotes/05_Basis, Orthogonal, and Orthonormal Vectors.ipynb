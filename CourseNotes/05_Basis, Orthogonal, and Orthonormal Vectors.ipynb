{
 "cells": [
  {
   "cell_type": "markdown",
   "id": "09cb35f7",
   "metadata": {},
   "source": [
    "# Vectors Linear Algebra - A Comprehensive Guide on Basis, Orthogonal, and Orthonormal Vectors with examples\n",
    "\n",
    "Vectors are a foundational concept in linear algebra and have broad applications across the sciences. Among the most fundamental ideas related to vectors are the concepts of basis, orthogonality, and orthonormality. Let's take a closer look at each of these ideas with examples to deepen our understanding.\n",
    "\n",
    "1. Basis Vectors\n",
    "2. Orthogonal Vectors\n",
    "3. Orthonormal Vectors\n",
    "\n",
    "## 1. Basis Vectors\n",
    "\n",
    "In linear algebra, a set of vectors is considered a basis for a vector space if:\n",
    "\n",
    "- **They are linearly independent**: No vector can be represented as a linear combination of the other vectors.\n",
    "- **They span the space**: Any vector in the space can be expressed as a linear combination of these basis vectors.\n",
    "\n",
    "**Data Science Context**: When dealing with datasets, you can think of each data point as a vector in some space. Basis vectors can serve as a \"coordinate system\" for this space. Principal Component Analysis (PCA), a popular dimensionality reduction technique, essentially tries to find a new basis for representing data where each basis vector (or principal component) captures a decreasing amount of variance in the dataset.\n",
    "\n",
    "**Example**: Suppose you have data points in 3D space, and you want to represent them in 2D without much loss of information. PCA will find two basis vectors (the first two principal components) that capture the most variance, allowing you to project your data onto these vectors and move from 3D to 2D.\n",
    "\n",
    "Consider the vectors in $R^{2}$\n",
    "\n",
    "$ e1 = \\begin{bmatrix} 1, 0\\\\ \\end{bmatrix} $\n",
    "\n",
    "$ e2 = \\begin{bmatrix} 0, 1\\\\ \\end{bmatrix} $\n",
    "\n",
    "These vectors are a basis for $R^{2}$ because any vector in $R^{2}$ can be written as a combination of **e1** and **e2**."
   ]
  },
  {
   "cell_type": "code",
   "execution_count": 1,
   "id": "a0497c52",
   "metadata": {},
   "outputs": [
    {
     "name": "stdout",
     "output_type": "stream",
     "text": [
      "Determinant: 1.0\n",
      "e1 and e2 form a basis for R^2.\n"
     ]
    }
   ],
   "source": [
    "import numpy as np\n",
    "\n",
    "# Define the potential basis vectors\n",
    "e1 = np.array([1, 0])\n",
    "e2 = np.array([0, 1])\n",
    "\n",
    "# Check if they are linearly independent using the determinant\n",
    "matrix = np.vstack([e1, e2])\n",
    "det = np.linalg.det(matrix)\n",
    "\n",
    "print(\"Determinant:\", det)\n",
    "if det != 0:\n",
    "    print(\"e1 and e2 form a basis for R^2.\")\n",
    "else:\n",
    "    print(\"e1 and e2 do not form a basis for R^2.\")"
   ]
  },
  {
   "cell_type": "markdown",
   "id": "8caa304a",
   "metadata": {},
   "source": [
    "## 2. Orthogonal Vectors\n",
    "\n",
    "Two vectors are orthogonal if their dot product is zero. This means they are perpendicular to each other in geometric terms.\n",
    "\n",
    "**Data Science Context**: Orthogonality is valuable in data science because orthogonal features (or vectors) are uncorrelated. This property is especially useful in regression analysis, where multicollinearity (correlation among predictor variables) can distort results and interpretations.\n",
    "\n",
    "**Example**: Imagine you have two features: `height` and `height_squared`. These features are not orthogonal since they are correlated. But `height` and, say, `weight`, could be orthogonal if they are uncorrelated in your datase\n",
    "\n",
    "For vectors **u** and **v**, if **u · v = 0**, then **u** and **v** are orthogonal.\n",
    "\n",
    "Consider the vectors:\n",
    "\n",
    "$ u = \\begin{bmatrix} 1,  2\\\\ \\end{bmatrix} $\n",
    "\n",
    "$ v = \\begin{bmatrix} 2, -1\\\\ \\end{bmatrix} $\n",
    "\n",
    "The dot product is:\n",
    "\n",
    "$u · v = 1(2) + 2(-1) = 0$\n",
    "\n",
    "Thus, u and v are orthogonal."
   ]
  },
  {
   "cell_type": "code",
   "execution_count": 2,
   "id": "58d4665d",
   "metadata": {},
   "outputs": [
    {
     "name": "stdout",
     "output_type": "stream",
     "text": [
      "Dot product: 0\n",
      "u and v are orthogonal.\n"
     ]
    }
   ],
   "source": [
    "# Vectors are orthogonal if their dot product is zero. Let's check for orthogonality\n",
    "\n",
    "u = np.array([1, 2])\n",
    "v = np.array([2, -1])\n",
    "\n",
    "dot_product = np.dot(u, v)\n",
    "\n",
    "print(\"Dot product:\", dot_product)\n",
    "if dot_product == 0:\n",
    "    print(\"u and v are orthogonal.\")\n",
    "else:\n",
    "    print(\"u and v are not orthogonal.\")"
   ]
  },
  {
   "cell_type": "markdown",
   "id": "ec38a0f9",
   "metadata": {},
   "source": [
    "## 3. Orthonormal Vectors\n",
    "\n",
    "Orthonormal vectors are not only orthogonal but also of unit length (magnitude of 1). An orthonormal set of vectors provides a \"normalized\" basis for a space.\n",
    "\n",
    "- They are orthogonal to each other.\n",
    "- Each vector has a magnitude (or length) of 1.\n",
    "\n",
    "**Data Science Context**: Orthonormal vectors simplify computations as their lengths are 1, and they are mutually perpendicular. This property is heavily leveraged in algorithms like the Gram-Schmidt process, which orthogonalizes a set of vectors and then normalizes them to generate an orthonormal set.\n",
    "\n",
    "**Example**: In the aforementioned PCA, the principal components are not only orthogonal but also orthonormal. This means that when you project your data onto these components, the length of the projections remains unchanged, ensuring that the relative distances between data points are maintained.\n",
    "\n",
    "$u = [1/sqrt(2), 1/sqrt(2)]$\n",
    "\n",
    "$v = [-1/sqrt(2), 1/sqrt(2)]$\n",
    "\n",
    "These vectors are orthonormal because:\n",
    "\n",
    "- Their dot product is zero, making them orthogonal.\n",
    "- The magnitude of each vector is 1."
   ]
  },
  {
   "cell_type": "code",
   "execution_count": 3,
   "id": "0406676c",
   "metadata": {},
   "outputs": [
    {
     "name": "stdout",
     "output_type": "stream",
     "text": [
      "Dot product: 0.0\n",
      "Magnitude of u: 0.9999999999999999\n",
      "Magnitude of v: 0.9999999999999999\n",
      "u_norm and v_norm are not orthonormal.\n"
     ]
    }
   ],
   "source": [
    "# For vectors to be orthonormal, they must be orthogonal, and each vector's magnitude must be 1. Let's check\n",
    "\n",
    "u_norm = np.array([1/np.sqrt(2), 1/np.sqrt(2)])\n",
    "v_norm = np.array([-1/np.sqrt(2), 1/np.sqrt(2)])\n",
    "\n",
    "dot_product = np.dot(u_norm, v_norm)\n",
    "u_magnitude = np.linalg.norm(u_norm)\n",
    "v_magnitude = np.linalg.norm(v_norm)\n",
    "\n",
    "print(\"Dot product:\", dot_product)\n",
    "print(\"Magnitude of u:\", u_magnitude)\n",
    "print(\"Magnitude of v:\", v_magnitude)\n",
    "\n",
    "if dot_product == 0 and u_magnitude == 1 and v_magnitude == 1:\n",
    "    print(\"u_norm and v_norm are orthonormal.\")\n",
    "else:\n",
    "    print(\"u_norm and v_norm are not orthonormal.\")"
   ]
  },
  {
   "cell_type": "markdown",
   "id": "207c6482",
   "metadata": {},
   "source": [
    "## Conclusion\n",
    "\n",
    "Understanding the nuances between basis, orthogonal, and orthonormal vectors is key for various applications across mathematics and science. While at first glance they might appear as mere academic concepts, their real-world applications span from quantum physics to computer graphics, making them indispensable tools in the modern world. \n",
    "\n",
    "As with many mathematical concepts, the true power and beauty of these ideas come to light when applied to solve complex problems."
   ]
  }
 ],
 "metadata": {
  "kernelspec": {
   "display_name": "Python 3 (ipykernel)",
   "language": "python",
   "name": "python3"
  },
  "language_info": {
   "codemirror_mode": {
    "name": "ipython",
    "version": 3
   },
   "file_extension": ".py",
   "mimetype": "text/x-python",
   "name": "python",
   "nbconvert_exporter": "python",
   "pygments_lexer": "ipython3",
   "version": "3.11.4"
  }
 },
 "nbformat": 4,
 "nbformat_minor": 5
}
