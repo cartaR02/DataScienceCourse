{
 "cells": [
  {
   "cell_type": "markdown",
   "id": "e1fa360e",
   "metadata": {},
   "source": [
    "# Matrix Operations - A Comprehensive Guide on Matrix Tensors and its operations with Examples\n",
    "\n",
    "Tensors, in general, are mathematical objects that generalize vectors, matrices, and higher-order structures, allowing us to describe more complex interactions, particularly in Data Science. A second-order tensor is often simply referred to as a matrix, but when discussing tensors, the context usually involves a broader mathematical or physical framework.\n",
    "\n",
    "## Matrix or Second-Order Tensor\n",
    "\n",
    "A matrix is a grid of numbers arranged in rows and columns. Matrices are second-order tensors. They are often used in machine learning to represent datasets and transformations, for instance, rotation or scaling.\n",
    "\n",
    "Example:\n",
    "$ V = \\begin{bmatrix}\n",
    "1 & 2 \\\\\n",
    "3 & 4\\\\\n",
    "5 & 6\\\\\n",
    "\\end{bmatrix} $"
   ]
  },
  {
   "cell_type": "markdown",
   "id": "0fbef05f",
   "metadata": {},
   "source": [
    "## Matrix Operations:\n",
    "\n",
    "Matrix operations are foundational to many areas of mathematics, computer graphics, data science, and other disciplines. Python doesn't natively support matrices, but the numpy library makes matrix operations quite easy.\n",
    "\n",
    "1. Matrix Addition\n",
    "2. Matrix Subtraction\n",
    "3. Scalar Multiplication\n",
    "4. Matrix Multiplication (Element-wise / Dot Product)\n",
    "5. Matrix Multiplication\n",
    "6. Transpose of a Matrix\n",
    "7. Inverse of a Matrix\n",
    "8. Determinant of a Matrix\n",
    "9. Reshaping a Matrix\n",
    "10. Identity and Inverse\n",
    "11. Frobenius norm (square root of sum of squares)"
   ]
  },
  {
   "cell_type": "markdown",
   "id": "ba09fc6b",
   "metadata": {},
   "source": [
    "### 1. Matrix Addition: \n",
    "\n",
    "Just like vectors, you can add matrices element-wise. If you have\n",
    "\n",
    "$ A = \\begin{bmatrix}\n",
    "1 & 2 \\\\\n",
    "3 & 4\\\\\n",
    "\\end{bmatrix} $\n",
    "\n",
    "$ B = \\begin{bmatrix}\n",
    "4 & 3 \\\\\n",
    "2 & 1 \\\\\n",
    "\\end{bmatrix} $\n",
    "\n",
    "then A+B is\n",
    "\n",
    "$ \\begin{bmatrix}\n",
    "5 & 5 \\\\\n",
    "5 & 5 \\\\\n",
    "\\end{bmatrix} $"
   ]
  },
  {
   "cell_type": "code",
   "execution_count": 4,
   "id": "c8dc74d5",
   "metadata": {},
   "outputs": [
    {
     "name": "stdout",
     "output_type": "stream",
     "text": [
      "[[5 5]\n",
      " [5 5]]\n"
     ]
    }
   ],
   "source": [
    "import numpy as np\n",
    "\n",
    "A = np.array([[1, 2], [3, 4]])\n",
    "B = np.array([[4, 3], [2, 1]])\n",
    "\n",
    "C = A + B\n",
    "print(C)"
   ]
  },
  {
   "cell_type": "markdown",
   "id": "48fb0f86",
   "metadata": {},
   "source": [
    "### 2. Matrix Subtraction: \n",
    "\n",
    "Just like vectors, you can subtract matrices element-wise\n",
    "\n",
    "$ A = \\begin{bmatrix}\n",
    "1 & 2 \\\\\n",
    "3 & 4\\\\\n",
    "\\end{bmatrix} $\n",
    "\n",
    "$ B = \\begin{bmatrix}\n",
    "4 & 3 \\\\\n",
    "2 & 1 \\\\\n",
    "\\end{bmatrix} $\n",
    "\n",
    "then A - B is\n",
    "\n",
    "$ \\begin{bmatrix}\n",
    "-3 & -1 \\\\\n",
    "1 & 3 \\\\\n",
    "\\end{bmatrix} $"
   ]
  },
  {
   "cell_type": "code",
   "execution_count": 7,
   "id": "cad24923",
   "metadata": {},
   "outputs": [
    {
     "name": "stdout",
     "output_type": "stream",
     "text": [
      "[[-3 -1]\n",
      " [ 1  3]]\n"
     ]
    }
   ],
   "source": [
    "C = A - B\n",
    "print(C)"
   ]
  },
  {
   "cell_type": "markdown",
   "id": "0ba59003",
   "metadata": {},
   "source": [
    "###  3. Scalar Multiplication: \n",
    "\n",
    "Matrices can be multiplied by scalars.\n",
    "\n",
    "If $c = 3$ and\n",
    "\n",
    "$ A = \\begin{bmatrix}\n",
    "1 & 2 \\\\\n",
    "3 & 4\\\\\n",
    "\\end{bmatrix} $\n",
    "\n",
    "then $c ⋅ A$ is\n",
    "\n",
    "$ \\begin{bmatrix}\n",
    "3 & 6 \\\\\n",
    "9 & 12\\\\\n",
    "\\end{bmatrix} $"
   ]
  },
  {
   "cell_type": "code",
   "execution_count": 5,
   "id": "9d717a70",
   "metadata": {},
   "outputs": [
    {
     "name": "stdout",
     "output_type": "stream",
     "text": [
      "[[ 3  6]\n",
      " [ 9 12]]\n"
     ]
    }
   ],
   "source": [
    "I = 3 * A\n",
    "print(I)"
   ]
  },
  {
   "cell_type": "markdown",
   "id": "d6a36466",
   "metadata": {},
   "source": [
    "###  4. Matrix Multiplication (Element-wise / Dot Product): \n",
    "\n",
    "Element-wise multiplication is straightforward: each element in the resulting matrix is just the product of the corresponding elements in the two matrices being multiplied. Both matrices need to be of the same dimension for this to work.\n",
    "\n",
    "Let's break it down with an example:\n",
    "\n",
    "Given matrices:\n",
    "\n",
    "$ A = \\begin{bmatrix}\n",
    "1 & 2 \\\\\n",
    "3 & 4\\\\\n",
    "\\end{bmatrix} $\n",
    "\n",
    "$ B = \\begin{bmatrix}\n",
    "4 & 3 \\\\\n",
    "2 & 1 \\\\\n",
    "\\end{bmatrix} $\n",
    "\n",
    "C = A ⊙ B (where ⊙ denotes element-wise multiplication)\n",
    "\n",
    "$ C = \\begin{bmatrix}\n",
    "4 & 6 \\\\\n",
    "6 & 4 \\\\\n",
    "\\end{bmatrix} $"
   ]
  },
  {
   "cell_type": "code",
   "execution_count": 8,
   "id": "fe4aa60a",
   "metadata": {},
   "outputs": [
    {
     "name": "stdout",
     "output_type": "stream",
     "text": [
      "[[4 6]\n",
      " [6 4]]\n"
     ]
    }
   ],
   "source": [
    "E = A * B\n",
    "print(E)"
   ]
  },
  {
   "cell_type": "markdown",
   "id": "0e396ad3",
   "metadata": {},
   "source": [
    "###  5. Matrix Multiplication:\n",
    "\n",
    "To multiply two matrices, the number of columns in the first matrix must be equal to the number of rows in the second matrix. If matrix A is of size **m×n** and matrix B is of size **n×p**, then their product will be of size **m×p**.\n",
    "\n",
    "$ \n",
    "c_{ij} = \\sum_{k=1}^{n} a_{ik} \\times b_{kj}\n",
    "$\n",
    "\n",
    "This equation indicates that to get the element $c_{ij}$ of matrix $C$, you take the dot product of the $i^{th}$ row of matrix $A$ with the $j^{th}$ column of matrix $B$."
   ]
  },
  {
   "cell_type": "code",
   "execution_count": 16,
   "id": "7c6a9e86",
   "metadata": {},
   "outputs": [
    {
     "name": "stdout",
     "output_type": "stream",
     "text": [
      "[[ 8  5]\n",
      " [20 13]]\n"
     ]
    }
   ],
   "source": [
    "import numpy as np\n",
    "\n",
    "# Define the matrices A and B\n",
    "A = np.array([[1, 2], [3, 4]])\n",
    "B = np.array([[4, 3], [2, 1]])\n",
    "\n",
    "# Multiply the matrices\n",
    "C = np.matmul(A, B)\n",
    "\n",
    "# Print the result\n",
    "print(C)"
   ]
  },
  {
   "cell_type": "markdown",
   "id": "7566551e",
   "metadata": {},
   "source": [
    "### 6. Transpose of a Matrix: \n",
    "\n",
    "The transpose of a matrix is obtained by flipping the matrix over its main diagonal. This main diagonal starts from the top left of the matrix and extends to the bottom right. Essentially, in the transpose operation, rows become columns and columns become rows.\n",
    "\n",
    "Mathematically, if matrix \\( A \\) has an element \\( a_{ij} \\) at the \\( i^{th} \\) row and \\( j^{th} \\) column, then its transpose, denoted \\( A^T \\) or \\( A' \\), will have this element at the \\( j^{th} \\) row and \\( i^{th} \\) column. In other words:\n",
    "\n",
    "$\n",
    "(A^T)_{ij} = a_{ji}\n",
    "$\n",
    "\n",
    "**Example:**\n",
    "\n",
    "Given matrix \\( A \\):\n",
    "\n",
    "$\n",
    "A = \n",
    "\\begin{bmatrix} \n",
    "1 & 2 & 3 \\\\\n",
    "4 & 5 & 6 \\\\\n",
    "\\end{bmatrix} \n",
    "$\n",
    "\n",
    "To compute the transpose \\( A^T \\):\n",
    "\n",
    "The resulting matrix \\( A^T \\) will have:\n",
    "- The first column as the first row of \\( A \\)\n",
    "- The second column as the second row of \\( A \\)\n",
    "- And so on...\n",
    "\n",
    "Thus:\n",
    "\n",
    "$\n",
    "A^T = \n",
    "\\begin{bmatrix} \n",
    "1 & 4 \\\\\n",
    "2 & 5 \\\\\n",
    "3 & 6 \\\\\n",
    "\\end{bmatrix} \n",
    "$\n",
    "\n",
    "So, for this 2x3 matrix \\( A \\), its transpose \\( A^T \\) is a 3x2 matrix.\n",
    "\n",
    "For square matrices (matrices with equal rows and columns), the transpose simply swaps the elements on either side of the main diagonal.\n"
   ]
  },
  {
   "cell_type": "code",
   "execution_count": 17,
   "id": "8e89bcf6",
   "metadata": {},
   "outputs": [
    {
     "name": "stdout",
     "output_type": "stream",
     "text": [
      "[[1 4]\n",
      " [2 5]\n",
      " [3 6]]\n"
     ]
    }
   ],
   "source": [
    "import numpy as np\n",
    "A = np.array([[1, 2, 3], [4, 5, 6]])\n",
    "\n",
    "G = A.T\n",
    "print(G)"
   ]
  },
  {
   "cell_type": "markdown",
   "id": "0eb64462",
   "metadata": {},
   "source": [
    "### 7. Inverse of a Matrix:\n",
    "\n",
    "In linear algebra, the inverse of a matrix \\(A\\) is denoted \\(A^{-1}\\) and it is the matrix such that when you multiply \\(A\\) by its inverse \\(A^{-1}\\), you get the identity matrix \\(I\\). Mathematically, this can be expressed as:\n",
    "\n",
    "$A \\times A^{-1} = A^{-1} \\times A = I$\n",
    "\n",
    "Where \\(I\\) is the identity matrix, a matrix that has ones on its diagonal and zeros everywhere else. It's called the identity matrix because when you multiply any matrix by the identity matrix, the original matrix is unchanged.\n",
    "\n",
    "**Note:** Not all matrices have inverses. For a matrix to have an inverse, it must be a square matrix (same number of rows and columns) and its determinant must not be zero.\n",
    "\n",
    "**How to Find the Inverse:**\n",
    "\n",
    "One of the common methods to find the inverse of a matrix is to use the formula:\n",
    "\n",
    "$ A^{-1} = \\frac{1}{\\text{det}(A)} \\times \\text{adj}(A)$\n",
    "\n",
    "Where:\n",
    "- $ \\text{det}(A) $ is the determinant of matrix \\(A\\).\n",
    "- $ \\text{adj}(A) $ is the adjugate (or adjoint) of matrix \\(A\\), which is the transpose of the cofactor matrix of \\(A\\).\n",
    "\n",
    "Cofactor Matrix Logic: https://byjus.com/maths/cofactor/\n",
    "\n",
    "**Example**:\n",
    "\n",
    "Consider the matrix\n",
    "$ A = \\begin{bmatrix}\n",
    "2 & 1 \\\\\n",
    "1 & 1 \n",
    "\\end{bmatrix} $\n",
    "\n",
    "To find its inverse:\n",
    "1. Calculate the determinant:\n",
    "$ \\text{det}(A) = (2)(1) - (1)(1) = 2 - 1 = 1 $\n",
    "\n",
    "2. Find the cofactor matrix:\n",
    "$ \\begin{bmatrix}\n",
    "1 & -1 \\\\\n",
    "-1 & 2 \n",
    "\\end{bmatrix} $\n",
    "\n",
    "3. Take the transpose to get the adjugate:\n",
    "$ \\begin{bmatrix}\n",
    "1 & -1 \\\\\n",
    "-1 & 2 \n",
    "\\end{bmatrix} $\n",
    "\n",
    "4. Multiply by $ \\frac{1}{\\text{det}(A)}$:\n",
    "$ A^{-1} = \\frac{1}{1} \\times \\begin{bmatrix}\n",
    "1 & -1 \\\\\n",
    "-1 & 2 \n",
    "\\end{bmatrix} = \\begin{bmatrix}\n",
    "1 & -1 \\\\\n",
    "-1 & 2 \n",
    "\\end{bmatrix} $\n",
    "\n",
    "Thus, the inverse of matrix \\(A\\) is:\n",
    "$ A^{-1} = \\begin{bmatrix}\n",
    "1 & -1 \\\\\n",
    "-1 & 2 \n",
    "\\end{bmatrix} $\n",
    "\n",
    "You can verify this by multiplying \\(A\\) with its inverse to ensure you get the identity matrix.\n"
   ]
  },
  {
   "cell_type": "code",
   "execution_count": 3,
   "id": "dc660dca",
   "metadata": {},
   "outputs": [
    {
     "name": "stdout",
     "output_type": "stream",
     "text": [
      "[[ 1. -1.]\n",
      " [-1.  2.]]\n"
     ]
    }
   ],
   "source": [
    "import numpy as np\n",
    "A = np.array([[2, 1], [1, 1]])\n",
    "\n",
    "H = np.linalg.inv(A)\n",
    "print(H)"
   ]
  },
  {
   "cell_type": "markdown",
   "id": "beb286b6",
   "metadata": {},
   "source": [
    "### 8. Determinant of a Matrix:\n",
    "\n",
    "The determinant is a scalar value that is derived from a square matrix and is denoted by `det(A)` or `|A|` for a matrix `A`. It has multiple applications in linear algebra, including understanding whether a matrix is invertible (a matrix is invertible if its determinant is not zero) and for finding the volume of a parallelepiped defined by vectors.\n",
    "\n",
    "**Calculating the Determinant**:\n",
    "\n",
    "- **For a 2x2 Matrix**:\n",
    "Given the matrix\n",
    "$ A = \\begin{bmatrix} a & b \\\\ c & d \\end{bmatrix} $\n",
    "\n",
    "The determinant is\n",
    "$ \\text{det}(A) = ad - bc $\n",
    "\n",
    "- **For a 3x3 Matrix**:\n",
    "\n",
    "\n",
    "![Alt text](image.png)\n",
    "\n",
    "Given the matrix\n",
    "$ A = \\begin{bmatrix} a & b & c \\\\ d & e & f \\\\ g & h & i \\end{bmatrix} $\n",
    "\n",
    "The determinant is\n",
    "$ \\text{det}(A) = aei + bfg + cdh - ceg - afh - bdi $\n",
    "\n",
    "For matrices larger than 3x3, the determinant is commonly found using a method called Laplace's expansion, which recursively calculates the determinant by breaking down the matrix into smaller matrices.\n",
    "\n",
    "**Example**:\n",
    "\n",
    "Let's determine the determinant of a 2x2 matrix:\n",
    "$ A = \\begin{bmatrix} 3 & 4 \\\\ 1 & 2 \\end{bmatrix} $\n",
    "\n",
    "Using our formula for a 2x2 matrix:\n",
    "$ \\text{det}(A) = (3)(2) - (4)(1) = 6 - 4 = 2 $\n",
    "\n",
    "So, the determinant of matrix A is 2.\n"
   ]
  },
  {
   "cell_type": "code",
   "execution_count": 4,
   "id": "7ce3cc3b",
   "metadata": {},
   "outputs": [
    {
     "name": "stdout",
     "output_type": "stream",
     "text": [
      "2.0000000000000004\n"
     ]
    }
   ],
   "source": [
    "import numpy as np\n",
    "A = np.array([[3, 4], [1, 2]])\n",
    "\n",
    "det_A = np.linalg.det(A)\n",
    "print(det_A)"
   ]
  },
  {
   "cell_type": "markdown",
   "id": "7f991787",
   "metadata": {},
   "source": [
    "### 9. Reshaping a Matrix :\n",
    "\n",
    "Reshaping a matrix involves changing its structure to have a different number of rows and columns, while still retaining the same data and the same number of elements. It is commonly used in data manipulation, machine learning, and computer vision tasks. \n",
    "\n",
    "However, when reshaping, the total number of elements must remain constant. If matrix `A` has dimensions `m x n` (where `m` is the number of rows and `n` is the number of columns), and you want to reshape it to have dimensions `p x q`, then `m*n` must equal `p*q`.\n",
    "\n",
    "**Example**:\n",
    "\n",
    "**Original Matrix A**:\n",
    "$ A = \\begin{bmatrix} 1 & 2 & 3 & 4 \\\\ 5 & 6 & 7 & 8 \\end{bmatrix} $\n",
    "\n",
    "The matrix `A` has dimensions `2 x 4` and contains 8 elements in total.\n",
    "\n",
    "If we want to reshape it into a matrix with dimensions `4 x 2`, it will look like this:\n",
    "\n",
    "$ B = \\begin{bmatrix} 1 & 2 \\\\ 3 & 4 \\\\ 5 & 6 \\\\ 7 & 8 \\end{bmatrix} $"
   ]
  },
  {
   "cell_type": "code",
   "execution_count": 5,
   "id": "4dd99cd1",
   "metadata": {},
   "outputs": [
    {
     "name": "stdout",
     "output_type": "stream",
     "text": [
      "[[1 2]\n",
      " [3 4]\n",
      " [5 6]\n",
      " [7 8]]\n"
     ]
    }
   ],
   "source": [
    "import numpy as np\n",
    "\n",
    "A = np.array([[1, 2, 3, 4], [5, 6, 7, 8]])\n",
    "B = A.reshape(4, 2)\n",
    "\n",
    "print(B)"
   ]
  },
  {
   "cell_type": "markdown",
   "id": "ed5e9815",
   "metadata": {},
   "source": [
    "### 10. Identity Matrix: \n",
    "\n",
    "Just as with numbers where we have 1 as the multiplicative identity (meaning any number multiplied by 1 remains unchanged), for matrices, we have the identity matrix. For a 2x2 matrix,\n",
    "\n",
    "$ I = \\begin{bmatrix}\n",
    "1 & 0 \\\\\n",
    "0 & 1 \\\\\n",
    "\\end{bmatrix} $\n",
    "\n",
    "Multiplying any 2x2 matrix by $I$ yields the original matrix. Additionally, some matrices have inverses, such that multiplying the matrix by its inverse yields the identity matrix."
   ]
  },
  {
   "cell_type": "code",
   "execution_count": 14,
   "id": "53c82de1",
   "metadata": {},
   "outputs": [
    {
     "name": "stdout",
     "output_type": "stream",
     "text": [
      "[[1. 0. 0.]\n",
      " [0. 1. 0.]\n",
      " [0. 0. 1.]]\n"
     ]
    }
   ],
   "source": [
    "I = np.eye(3)\n",
    "print(I)"
   ]
  },
  {
   "cell_type": "markdown",
   "id": "2a4ee51e",
   "metadata": {},
   "source": [
    "## Conclusion\n",
    "\n",
    "Second order matrix tensors, or simply matrices, are everywhere. From the equations that power our most cutting-edge machine learning algorithms to fundamental concepts in physics and engineering, understanding matrices is key to grasping the language of the modern world. \n",
    "\n",
    "As you delve deeper into any technical field, the matrix and its higher-dimensional siblings will undoubtedly be your constant companions."
   ]
  }
 ],
 "metadata": {
  "kernelspec": {
   "display_name": "Python 3 (ipykernel)",
   "language": "python",
   "name": "python3"
  },
  "language_info": {
   "codemirror_mode": {
    "name": "ipython",
    "version": 3
   },
   "file_extension": ".py",
   "mimetype": "text/x-python",
   "name": "python",
   "nbconvert_exporter": "python",
   "pygments_lexer": "ipython3",
   "version": "3.11.4"
  }
 },
 "nbformat": 4,
 "nbformat_minor": 5
}
