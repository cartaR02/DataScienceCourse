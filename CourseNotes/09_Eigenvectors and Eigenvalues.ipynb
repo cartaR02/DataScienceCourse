{
 "cells": [
  {
   "cell_type": "markdown",
   "id": "f8ba78c7",
   "metadata": {},
   "source": [
    "# Eigenvectors and Eigenvalues - Detailed Explanation on Eigenvectors and Eigenvalues\n",
    "\n",
    "Eigenvectors and eigenvalues are fundamental concepts in linear algebra that have found applications in various domains, especially in data science. From Principal Component Analysis (PCA) to solving systems of differential equations, understanding these concepts is vital for anyone diving deep into the realm of data science.\n",
    "\n",
    "## What are Eigenvectors and Eigenvalues?\n",
    "\n",
    "Let's start with the basics:\n",
    "\n",
    "- **Matrix**: A rectangular array of numbers.\n",
    "- **Vector**: A matrix with a single column. \n",
    "- **Eigenvector**: Given a square matrix $A$, a vector $v$ is an eigenvector of $A$ if multiplying $A$ by $v$ results in a scaled version of $v$. In other words, the direction of $v$ doesn't change. Mathematically:\n",
    "$ A \\cdot v = \\lambda \\cdot v $\n",
    "where $\\lambda$ is a scalar.\n",
    "- **Eigenvalue**: The scalar $\\lambda$ is the eigenvalue corresponding to the eigenvector $v$.\n",
    "\n",
    "## Why are they important?\n",
    "\n",
    "In data science, datasets are often multi-dimensional. Eigenvectors and eigenvalues help in:\n",
    "\n",
    "1. **Dimensionality Reduction**: Through methods like PCA, where the aim is to represent data in lower dimensions without losing significant information. \n",
    "\n",
    "\n",
    "2. **Understanding Variability**: The eigenvalues can be used to understand the amount of variability captured by their corresponding eigenvectors.\n",
    "\n",
    "3. **Spectral Clustering, Image Processing, and More**: They're used in various algorithms and techniques.\n"
   ]
  },
  {
   "cell_type": "markdown",
   "id": "42b5030e",
   "metadata": {},
   "source": [
    "## How to compute them?\n",
    "\n",
    "Let's say you have a square matrix $A$ and you want to find its eigenvectors and eigenvalues. \n",
    "\n",
    "The equation to find them is: $ A \\cdot v = \\lambda \\cdot v $\n",
    "\n",
    "Expanding, we get: $ A \\cdot v - \\lambda \\cdot v = 0 $\n",
    "\n",
    "Which can be rewritten as: $ A \\cdot v - \\lambda \\cdot I \\cdot v = 0 $\n",
    "\n",
    "Where $I$ is the identity matrix.\n",
    "\n",
    "For a non-trivial solution, the determinant of the matrix $(A - \\lambda \\cdot I)$ must be zero: $ det(A - \\lambda \\cdot I) = 0 $\n",
    "\n",
    "Solving this equation will give you the eigenvalues. For each eigenvalue, plugging back into the equation will provide the corresponding eigenvector."
   ]
  },
  {
   "cell_type": "markdown",
   "id": "315f952f",
   "metadata": {},
   "source": [
    "## An Example:\n",
    "\n",
    "Consider a simple 2x2 matrix:\n",
    "$ A = \\begin{bmatrix}\n",
    "2 & 1 \\\\\n",
    "1 & 3 \n",
    "\\end{bmatrix} $\n",
    "\n",
    "To find its eigenvalues, we solve: $ det(A - \\lambda \\cdot I) = 0 $\n",
    "\n",
    "Which is :\n",
    "$ det(\\begin{bmatrix}\n",
    "2 - \\lambda & 1 \\\\\n",
    "1 & 3 - \\lambda \n",
    "\\end{bmatrix}) = 0 $\n",
    "\n",
    "Solving this, you'll get two eigenvalues: $\\lambda_1 = 1$ and $\\lambda_2 = 4$.\n",
    "\n",
    "To find the eigenvectors, plug each eigenvalue into $ A \\cdot v = \\lambda \\cdot v $. For $\\lambda_1 = 1$, you'll find the corresponding eigenvector to be $[1, -1]$ (or any scalar multiple of this).\n",
    "\n",
    "For $\\lambda_2 = 4$, the eigenvector will be $[1, 1]$ (or any scalar multiple)."
   ]
  },
  {
   "cell_type": "code",
   "execution_count": 4,
   "id": "1b00a5c2",
   "metadata": {},
   "outputs": [
    {
     "name": "stdout",
     "output_type": "stream",
     "text": [
      "Matrix A:\n",
      "[[2 1]\n",
      " [1 3]]\n"
     ]
    }
   ],
   "source": [
    "import numpy as np\n",
    "\n",
    "# Define the Matrix A\n",
    "A = np.array([[2, 1], [1, 3]])\n",
    "print(\"Matrix A:\")\n",
    "print(A)"
   ]
  },
  {
   "cell_type": "code",
   "execution_count": 3,
   "id": "6e080372",
   "metadata": {},
   "outputs": [
    {
     "name": "stdout",
     "output_type": "stream",
     "text": [
      "Eigenvalues: [1.38196601 3.61803399]\n",
      "Eigenvectors:\n",
      "[[-0.85065081 -0.52573111]\n",
      " [ 0.52573111 -0.85065081]]\n"
     ]
    }
   ],
   "source": [
    "# Find Eigenvalues and Eigenvectors\n",
    "\n",
    "eigenvalues, eigenvectors = np.linalg.eig(A)\n",
    "\n",
    "print(\"Eigenvalues:\", eigenvalues)\n",
    "print(\"Eigenvectors:\")\n",
    "print(eigenvectors)"
   ]
  },
  {
   "cell_type": "markdown",
   "id": "789f3bd3",
   "metadata": {},
   "source": [
    "## Conclusion\n",
    "\n",
    "Eigenvectors and eigenvalues are essential tools in data science. They help extract key features from data, reduce dimensionality, and understand the structure and variability inherent in datasets. With a strong grasp of these concepts, a data scientist can tackle various challenges in data analysis, visualization, and machine learning.\n"
   ]
  }
 ],
 "metadata": {
  "kernelspec": {
   "display_name": "Python 3 (ipykernel)",
   "language": "python",
   "name": "python3"
  },
  "language_info": {
   "codemirror_mode": {
    "name": "ipython",
    "version": 3
   },
   "file_extension": ".py",
   "mimetype": "text/x-python",
   "name": "python",
   "nbconvert_exporter": "python",
   "pygments_lexer": "ipython3",
   "version": "3.11.4"
  }
 },
 "nbformat": 4,
 "nbformat_minor": 5
}
