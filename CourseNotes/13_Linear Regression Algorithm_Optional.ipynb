{
 "cells": [
  {
   "cell_type": "markdown",
   "id": "215ca472",
   "metadata": {},
   "source": [
    "# Linear Regression Algorithm - Applications and Concepts of Linear Algebra Using the Linear Regression Algorithm\n",
    "\n",
    "Linear algebra, a branch of mathematics dealing with vectors and the rules for their operations, has myriad applications in the real world. One such application is in the field of machine learning, particularly in linear regression, a statistical method used to model the relationship between a dependent variable and one or more independent variables.\n",
    "\n",
    "In this blog post, we'll dive into the basics of linear regression, highlight the linear algebra concepts involved, and demonstrate a Python implementation with sample data.\n",
    "\n",
    "---\n",
    "\n",
    "## 1. Concepts in Linear Regression\n",
    "\n",
    "**a. Vector:** A list or column of numbers.\n",
    "\n",
    "**b. Matrix:** A 2-dimensional array of numbers.\n",
    "\n",
    "**c. Dot Product:** The sum of products of the corresponding entries of two sequences of numbers.\n",
    "\n",
    "**d. Transpose of a Matrix:** Reflecting a matrix over its main diagonal.\n",
    "\n",
    "**e. Matrix Multiplication:** Combining matrices to produce another matrix.\n",
    "\n",
    "Linear regression essentially revolves around the equation:\n",
    "\n",
    "$ Y = X \\beta + \\epsilon $\n",
    "\n",
    "Where:\n",
    "\n",
    "- $ Y $ is the dependent variable (what you're trying to predict),\n",
    "- $ X $ is the matrix of independent variables,\n",
    "- $ \\beta $ is the matrix of coefficients, and\n",
    "- $ \\epsilon $ is the error term.\n",
    "\n",
    "The goal is to find $ \\beta $ that minimizes the sum of squared residuals, which can be represented in matrix notation as:\n",
    "\n",
    "$ \\hat{\\beta} = (X^TX)^{-1}X^TY $\n",
    "\n",
    "---\n",
    "\n",
    "## 2. Python Implementation using NumPy\n",
    "\n",
    "Let's consider a simple example where we'll try to predict the price of houses based on their size (in square feet). \n",
    "\n",
    "### Sample Data"
   ]
  },
  {
   "cell_type": "code",
   "execution_count": 2,
   "id": "8eb53482",
   "metadata": {},
   "outputs": [
    {
     "name": "stdout",
     "output_type": "stream",
     "text": [
      "Intercept: 5000.0\n",
      "Coefficient for size: 145.0\n"
     ]
    }
   ],
   "source": [
    "import numpy as np\n",
    "\n",
    "# Sample Data\n",
    "# Independent Variable (Size in sq.ft)\n",
    "X = np.array([1000, 1500, 2000, 2500, 3000]).reshape(-1, 1)\n",
    "# Dependent Variable (Price in $)\n",
    "Y = np.array([150000, 225000, 290000, 370000, 440000])\n",
    "\n",
    "# Add a column of ones for the intercept term\n",
    "X = np.hstack([np.ones(X.shape), X])\n",
    "\n",
    "# Step 1: Transposition\n",
    "X_transposed = X.T\n",
    "\n",
    "# Step 2: Matrix Multiplication\n",
    "XtX = X_transposed.dot(X)\n",
    "XtY = X_transposed.dot(Y)\n",
    "\n",
    "# Step 3: Matrix Inversion\n",
    "XtX_inverse = np.linalg.inv(XtX)\n",
    "\n",
    "# Calculating beta_hat using the formula\n",
    "beta_hat = XtX_inverse.dot(XtY)\n",
    "\n",
    "print(\"Intercept:\", beta_hat[0])\n",
    "print(\"Coefficient for size:\", beta_hat[1])"
   ]
  },
  {
   "cell_type": "markdown",
   "id": "196cb4db",
   "metadata": {},
   "source": [
    "## 3. Linear Algebra Behind the Scenes\n",
    "\n",
    "The linear regression formula we used, $ \\hat{\\beta} = (X^TX)^{-1}X^TY $, employs multiple concepts of linear algebra:\n",
    "\n",
    "1. **Transposition ( $ X^T $ )**: Flips the matrix over its diagonal. This is required to match the dimensions for matrix multiplication.\n",
    "\n",
    "2. **Matrix Multiplication ( $ X^TX $ and $ X^TY $ )**: Helps compute the sum of the squares of the independent variable and the product of the independent and dependent variables, respectively.\n",
    "\n",
    "3. **Matrix Inversion ( $ (X^TX)^{-1} $ )**: Finds the matrix, when multiplied by $ X^TX $, will yield the identity matrix. This inversion is central to solving for the coefficients."
   ]
  },
  {
   "cell_type": "markdown",
   "id": "36b71772",
   "metadata": {},
   "source": [
    "## Conclusion\n",
    "\n",
    "Linear algebra, although a fundamental mathematical discipline, finds expansive applications in the modern world, particularly in the domain of machine learning. Linear regression, a seemingly simple algorithm, leverages these concepts to make predictions based on patterns in data. \n",
    "\n",
    "As demonstrated, Python, along with the NumPy library, provides an intuitive platform to understand and implement these principles."
   ]
  }
 ],
 "metadata": {
  "kernelspec": {
   "display_name": "Python 3 (ipykernel)",
   "language": "python",
   "name": "python3"
  },
  "language_info": {
   "codemirror_mode": {
    "name": "ipython",
    "version": 3
   },
   "file_extension": ".py",
   "mimetype": "text/x-python",
   "name": "python",
   "nbconvert_exporter": "python",
   "pygments_lexer": "ipython3",
   "version": "3.11.4"
  }
 },
 "nbformat": 4,
 "nbformat_minor": 5
}
