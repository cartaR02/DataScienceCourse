{
 "cells": [
  {
   "cell_type": "markdown",
   "id": "72e59b54",
   "metadata": {},
   "source": [
    "# Scalars - Understanding Scalars (Zero-Order Tensors)\n",
    "\n",
    "## What is a Scalar?\n",
    "\n",
    "A scalar is the simplest form of a tensor. It's a single number, without direction. Scalars contrast with higher order tensors like vectors (1st order), matrices (2nd order), and so on. In other words, a scalar has zero dimensions.\n",
    "\n",
    "## Why are Scalars Important?\n",
    "\n",
    "**Foundation of Math Operations**: When we work with high-dimensional data, the operations often boil down to scalar computations. For instance, when you multiply two matrices, the individual operations involve multiplying scalars.\n",
    "\n",
    "**Understanding Basic Properties**: Concepts like magnitude, units, and identity elements are best understood using scalars before they're applied to vectors and matrices.\n",
    "\n",
    "**Performance Metrics**: In machine learning, metrics such as loss, accuracy, or precision are often represented as scalars.\n",
    "\n",
    "## Interactions with Higher-Order Tensors\n",
    "\n",
    "Scalars frequently interact with vectors, matrices, and higher-order tensors. For instance:\n",
    "\n",
    "Scalar Multiplication: Multiplying a matrix by a scalar involves multiplying each element of the matrix by the scalar.\n",
    "\n",
    "NumPy:"
   ]
  },
  {
   "cell_type": "code",
   "execution_count": 1,
   "id": "2444e5d3",
   "metadata": {},
   "outputs": [
    {
     "name": "stdout",
     "output_type": "stream",
     "text": [
      "[[ 5 10]\n",
      " [15 20]]\n"
     ]
    }
   ],
   "source": [
    "import numpy as np\n",
    "\n",
    "matrix = np.array([[1, 2], \n",
    "                   [3, 4]])\n",
    "\n",
    "result = matrix * 5\n",
    "\n",
    "print(result)  "
   ]
  },
  {
   "cell_type": "markdown",
   "id": "01b91d6e",
   "metadata": {},
   "source": [
    "## Basic Properties of Scalars\n",
    "\n",
    "**Identity**: The number 1 is often called a multiplicative identity because multiplying any number by 1 doesn’t change that number. Likewise, 0 is an additive identity because adding 0 to a number doesn’t change it.\n",
    "\n",
    "**Inverse**: Every scalar has a multiplicative inverse, such that when it's multiplied by its inverse, the result is 1. For example, the inverse of 5 is 1/5\n",
    "\n",
    "**Absolute Value**: It represents the magnitude of a scalar. In many libraries, it's computed using the abs function."
   ]
  },
  {
   "cell_type": "markdown",
   "id": "104dec25",
   "metadata": {},
   "source": [
    "## Scalars in Different Frameworks\n",
    "\n",
    "We will be illustrating scalar operations in three prominent libraries:\n",
    "\n",
    "- NumPy\n",
    "- PyTorch\n",
    "- TensorFlow\n",
    "\n",
    "## Scalars in NumPy"
   ]
  },
  {
   "cell_type": "code",
   "execution_count": 1,
   "id": "af0d0a60",
   "metadata": {},
   "outputs": [
    {
     "name": "stdout",
     "output_type": "stream",
     "text": [
      "5\n",
      "()\n"
     ]
    }
   ],
   "source": [
    "import numpy as np\n",
    "\n",
    "# Creating a scalar\n",
    "scalar = np.array(5)\n",
    "print(scalar)  # Output: 5\n",
    "\n",
    "# Checking its dimensions\n",
    "print(scalar.shape)  # Output: ()"
   ]
  },
  {
   "cell_type": "markdown",
   "id": "d66ef5e8",
   "metadata": {},
   "source": [
    "## Scalars in PyTorch"
   ]
  },
  {
   "cell_type": "code",
   "execution_count": 4,
   "id": "d66313db",
   "metadata": {},
   "outputs": [
    {
     "name": "stdout",
     "output_type": "stream",
     "text": [
      "tensor(5)\n",
      "torch.Size([])\n"
     ]
    }
   ],
   "source": [
    "import torch\n",
    "\n",
    "# Creating a scalar\n",
    "scalar = torch.tensor(5)\n",
    "print(scalar)  # Output: tensor(5)\n",
    "\n",
    "# Checking its dimensions\n",
    "print(scalar.size())  # Output: torch.Size([])"
   ]
  },
  {
   "cell_type": "markdown",
   "id": "5773eed7",
   "metadata": {},
   "source": [
    "## Scalars in TensorFlow"
   ]
  },
  {
   "cell_type": "code",
   "execution_count": 5,
   "id": "f8b18018",
   "metadata": {},
   "outputs": [
    {
     "ename": "ModuleNotFoundError",
     "evalue": "No module named 'tensorflow'",
     "output_type": "error",
     "traceback": [
      "\u001b[1;31m---------------------------------------------------------------------------\u001b[0m",
      "\u001b[1;31mModuleNotFoundError\u001b[0m                       Traceback (most recent call last)",
      "\u001b[1;32md:\\MLPlus\\01_Courses\\03_Linear Algebra\\03_Scalars.ipynb Cell 9\u001b[0m line \u001b[0;36m1\n\u001b[1;32m----> <a href='vscode-notebook-cell:/d%3A/MLPlus/01_Courses/03_Linear%20Algebra/03_Scalars.ipynb#X11sZmlsZQ%3D%3D?line=0'>1</a>\u001b[0m \u001b[39mimport\u001b[39;00m \u001b[39mtensorflow\u001b[39;00m \u001b[39mas\u001b[39;00m \u001b[39mtf\u001b[39;00m\n\u001b[0;32m      <a href='vscode-notebook-cell:/d%3A/MLPlus/01_Courses/03_Linear%20Algebra/03_Scalars.ipynb#X11sZmlsZQ%3D%3D?line=2'>3</a>\u001b[0m \u001b[39m# Creating a scalar\u001b[39;00m\n\u001b[0;32m      <a href='vscode-notebook-cell:/d%3A/MLPlus/01_Courses/03_Linear%20Algebra/03_Scalars.ipynb#X11sZmlsZQ%3D%3D?line=3'>4</a>\u001b[0m scalar \u001b[39m=\u001b[39m tf\u001b[39m.\u001b[39mconstant(\u001b[39m5\u001b[39m)\n",
      "\u001b[1;31mModuleNotFoundError\u001b[0m: No module named 'tensorflow'"
     ]
    }
   ],
   "source": [
    "import tensorflow as tf\n",
    "\n",
    "# Creating a scalar\n",
    "scalar = tf.constant(5)\n",
    "print(scalar)  # Output: tf.Tensor(5, shape=(), dtype=int32)\n",
    "\n",
    "# Checking its dimensions\n",
    "print(scalar.shape)  # Output: ()"
   ]
  },
  {
   "cell_type": "markdown",
   "id": "9455eb65",
   "metadata": {},
   "source": [
    "## Scalar Operations\n",
    "\n",
    "### Addition\n",
    "\n",
    "NumPy:"
   ]
  },
  {
   "cell_type": "code",
   "execution_count": 2,
   "id": "8310a889",
   "metadata": {},
   "outputs": [
    {
     "name": "stdout",
     "output_type": "stream",
     "text": [
      "8\n"
     ]
    }
   ],
   "source": [
    "result = np.add(5, 3)\n",
    "print(result)  # Output: 8"
   ]
  },
  {
   "cell_type": "code",
   "execution_count": 3,
   "id": "05daf2bc",
   "metadata": {},
   "outputs": [
    {
     "data": {
      "text/plain": [
       "numpy.int32"
      ]
     },
     "execution_count": 3,
     "metadata": {},
     "output_type": "execute_result"
    }
   ],
   "source": [
    "type(result)"
   ]
  },
  {
   "cell_type": "markdown",
   "id": "098122c7",
   "metadata": {},
   "source": [
    "PyTorch:"
   ]
  },
  {
   "cell_type": "code",
   "execution_count": 7,
   "id": "544c4427",
   "metadata": {},
   "outputs": [
    {
     "name": "stdout",
     "output_type": "stream",
     "text": [
      "tensor(8)\n"
     ]
    }
   ],
   "source": [
    "result = torch.add(torch.tensor(5), torch.tensor(3))\n",
    "print(result)  # Output: tensor(8)"
   ]
  },
  {
   "cell_type": "markdown",
   "id": "0cf454af",
   "metadata": {},
   "source": [
    "TensorFlow:"
   ]
  },
  {
   "cell_type": "code",
   "execution_count": 8,
   "id": "f04b9923",
   "metadata": {},
   "outputs": [
    {
     "name": "stdout",
     "output_type": "stream",
     "text": [
      "tf.Tensor(8, shape=(), dtype=int32)\n"
     ]
    }
   ],
   "source": [
    "result = tf.add(tf.constant(5), tf.constant(3))\n",
    "print(result)  # Output: tf.Tensor(8, shape=(), dtype=int32)"
   ]
  },
  {
   "cell_type": "markdown",
   "id": "e44989b7",
   "metadata": {},
   "source": [
    "### Multiplication\n",
    "\n",
    "NumPy:"
   ]
  },
  {
   "cell_type": "code",
   "execution_count": null,
   "id": "77b6c149",
   "metadata": {},
   "outputs": [
    {
     "name": "stdout",
     "output_type": "stream",
     "text": [
      "15\n"
     ]
    }
   ],
   "source": [
    "result = np.multiply(5, 3)\n",
    "print(result)  # Output: 15"
   ]
  },
  {
   "cell_type": "code",
   "execution_count": null,
   "id": "1914d6d8",
   "metadata": {},
   "outputs": [],
   "source": []
  },
  {
   "cell_type": "markdown",
   "id": "9bc691e0",
   "metadata": {},
   "source": [
    "PyTorch:"
   ]
  },
  {
   "cell_type": "code",
   "execution_count": 11,
   "id": "38df9701",
   "metadata": {},
   "outputs": [
    {
     "name": "stdout",
     "output_type": "stream",
     "text": [
      "tensor(15)\n"
     ]
    }
   ],
   "source": [
    "result = torch.mul(torch.tensor(5), torch.tensor(3))\n",
    "print(result)  # Output: tensor(15)"
   ]
  },
  {
   "cell_type": "markdown",
   "id": "bf937b81",
   "metadata": {},
   "source": [
    "TensorFlow:"
   ]
  },
  {
   "cell_type": "code",
   "execution_count": 12,
   "id": "4e05295d",
   "metadata": {},
   "outputs": [
    {
     "name": "stdout",
     "output_type": "stream",
     "text": [
      "tf.Tensor(15, shape=(), dtype=int32)\n"
     ]
    }
   ],
   "source": [
    "result = tf.multiply(tf.constant(5), tf.constant(3))\n",
    "print(result)  # Output: tf.Tensor(15, shape=(), dtype=int32)"
   ]
  },
  {
   "cell_type": "markdown",
   "id": "1b3ee726",
   "metadata": {},
   "source": [
    "### Division\n",
    "\n",
    "NumPy:"
   ]
  },
  {
   "cell_type": "code",
   "execution_count": 13,
   "id": "63ca21e1",
   "metadata": {},
   "outputs": [
    {
     "name": "stdout",
     "output_type": "stream",
     "text": [
      "5.0\n"
     ]
    }
   ],
   "source": [
    "result = np.divide(10, 2)\n",
    "\n",
    "print(result)  # Output: 5.0"
   ]
  },
  {
   "cell_type": "markdown",
   "id": "6b4e4055",
   "metadata": {},
   "source": [
    "PyTorch:"
   ]
  },
  {
   "cell_type": "code",
   "execution_count": 14,
   "id": "8455608d",
   "metadata": {},
   "outputs": [
    {
     "name": "stdout",
     "output_type": "stream",
     "text": [
      "tensor(5.)\n"
     ]
    }
   ],
   "source": [
    "result = torch.div(torch.tensor(10), torch.tensor(2))\n",
    "print(result)  # Output: tensor(5)"
   ]
  },
  {
   "cell_type": "markdown",
   "id": "4237e5fd",
   "metadata": {},
   "source": [
    "TensorFlow:"
   ]
  },
  {
   "cell_type": "code",
   "execution_count": 15,
   "id": "d55ff7c2",
   "metadata": {},
   "outputs": [
    {
     "name": "stdout",
     "output_type": "stream",
     "text": [
      "tf.Tensor(5.0, shape=(), dtype=float64)\n"
     ]
    }
   ],
   "source": [
    "result = tf.divide(tf.constant(10), tf.constant(2))\n",
    "print(result)  # Output: tf.Tensor(5.0, shape=(), dtype=float64)"
   ]
  },
  {
   "cell_type": "markdown",
   "id": "dd2bdeb0",
   "metadata": {},
   "source": [
    "## Conclusion\n",
    "\n",
    "More you understand about scalars, the more solid your foundational knowledge will be as you delve into vectors, matrices, and more advanced multi-dimensional tensors. Whether you're working with NumPy, TensorFlow, or PyTorch, remember the essential role these zero-order tensors play in complex operations and computations."
   ]
  }
 ],
 "metadata": {
  "kernelspec": {
   "display_name": "Python 3 (ipykernel)",
   "language": "python",
   "name": "python3"
  },
  "language_info": {
   "codemirror_mode": {
    "name": "ipython",
    "version": 3
   },
   "file_extension": ".py",
   "mimetype": "text/x-python",
   "name": "python",
   "nbconvert_exporter": "python",
   "pygments_lexer": "ipython3",
   "version": "3.11.4"
  }
 },
 "nbformat": 4,
 "nbformat_minor": 5
}
