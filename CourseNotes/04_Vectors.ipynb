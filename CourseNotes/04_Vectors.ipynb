{
 "cells": [
  {
   "cell_type": "markdown",
   "id": "0a743946",
   "metadata": {},
   "source": [
    "# Vectors, Vector Transposition, Norms, and Unit Vectors: A Comprehensive Guide\n",
    "\n",
    "In the world of data science, vectors play a vital role. They are fundamental to machine learning, data analysis, and artificial intelligence. This post aims to break down the concepts of vectors, vector transposition, norms, and unit vectors, explaining their importance in the data science landscape.\n",
    "\n",
    "## Vectors\n",
    "\n",
    "Vectors, also referred to as first-order tensors, are mathematical objects used to represent quantities that have both magnitude and direction. They are an ordered list of numbers that can describe anything from motion to the weights in a neural network.\n",
    "\n",
    " \n",
    "$ F = \\begin{bmatrix}\n",
    "v1 \\\\\n",
    "v2 \\\\\n",
    "v3 \\\\\n",
    "\\end{bmatrix} $\n",
    "\n",
    "or \n",
    "\n",
    "$ F = \\begin{bmatrix}\n",
    "v1 & v2 & v3 \\\\\n",
    "\\end{bmatrix} $\n",
    "\n",
    "## Properties of Vectors\n",
    "\n",
    "- **Commutativity**: A + B = B + A\n",
    "\n",
    "- **Associativity**: (A + B) + C = A + (B + C)\n",
    "\n",
    "- **Distributive Property**: a(A + B) = aA + aB, where ‘a’ is a scalar.\n",
    "\n",
    "\n",
    "## 1. Basic Operations with Vectors\n",
    "\n",
    "- **Addition**: When you add vectors, you place them head to tail and draw the resultant vector from the tail of the first vector to the head of the last.\n",
    "\n",
    "\n",
    "- **Subtraction**: This is equivalent to adding a negative vector.\n",
    "\n",
    "\n",
    "- **Scalar Multiplication**: Multiplying a vector by a scalar changes its magnitude but not its direction.\n",
    "\n",
    "\n",
    "- **Dot Product (Scalar Product)**: The result is a scalar. For two vectors A and B, **A·B = |A||B|cos(θ)**, where θ is the angle between the vectors.\n",
    "\n",
    "\n",
    "- **Cross Product (Vector Product)**: The result is a vector. For vectors A and B in 3D, the magnitude is **|A||B|sin(θ)**, and the direction is perpendicular to both A and B, following the right-hand rule.\n",
    "\n",
    "**Addition of Vectors**"
   ]
  },
  {
   "cell_type": "code",
   "execution_count": 13,
   "id": "e415b2af",
   "metadata": {},
   "outputs": [
    {
     "name": "stdout",
     "output_type": "stream",
     "text": [
      "NumPy result : [5 7 9]\n",
      "PyTorch result : tensor([5, 7, 9])\n",
      "TensorFlow result : [5 7 9]\n"
     ]
    }
   ],
   "source": [
    "import numpy as np\n",
    "import torch\n",
    "import tensorflow as tf\n",
    "\n",
    "# NumPy\n",
    "v1 = np.array([1,2,3])\n",
    "v2 = np.array([4,5,6])\n",
    "result = v1 + v2\n",
    "print(\"NumPy result : {}\".format(result))\n",
    "\n",
    "# PyTorch\n",
    "v1 = torch.tensor([1,2,3])\n",
    "v2 = torch.tensor([4,5,6])\n",
    "result = v1 + v2\n",
    "print(\"PyTorch result : {}\".format(result))\n",
    "\n",
    "# TensorFlow\n",
    "v1 = tf.constant([1,2,3])\n",
    "v2 = tf.constant([4,5,6])\n",
    "result = v1 + v2\n",
    "print(\"TensorFlow result : {}\".format(result))"
   ]
  },
  {
   "cell_type": "markdown",
   "id": "e462d2a3",
   "metadata": {},
   "source": [
    "**Subtraction of Vectors**"
   ]
  },
  {
   "cell_type": "code",
   "execution_count": 16,
   "id": "849a1e56",
   "metadata": {},
   "outputs": [
    {
     "name": "stdout",
     "output_type": "stream",
     "text": [
      "NumPy result : [-3 -3 -3]\n",
      "PyTorch result : tensor([-3, -3, -3])\n",
      "TensorFlow result : [-3 -3 -3]\n"
     ]
    }
   ],
   "source": [
    "# NumPy\n",
    "v1 = np.array([1,2,3])\n",
    "v2 = np.array([4,5,6])\n",
    "result = v1 - v2\n",
    "print(\"NumPy result : {}\".format(result))\n",
    "\n",
    "# PyTorch\n",
    "v1 = torch.tensor([1,2,3])\n",
    "v2 = torch.tensor([4,5,6])\n",
    "result = v1 - v2\n",
    "print(\"PyTorch result : {}\".format(result))\n",
    "\n",
    "# TensorFlow\n",
    "v1 = tf.constant([1,2,3])\n",
    "v2 = tf.constant([4,5,6])\n",
    "result = v1 - v2\n",
    "print(\"TensorFlow result : {}\".format(result))"
   ]
  },
  {
   "cell_type": "markdown",
   "id": "d2df5dbd",
   "metadata": {},
   "source": [
    "**Scalar Multiplication**"
   ]
  },
  {
   "cell_type": "code",
   "execution_count": 14,
   "id": "72a78d76",
   "metadata": {},
   "outputs": [
    {
     "name": "stdout",
     "output_type": "stream",
     "text": [
      "NumPy result : [2 4 6]\n",
      "PyTorch result : tensor([2, 4, 6])\n",
      "TensorFlow result : [2 4 6]\n"
     ]
    }
   ],
   "source": [
    "# NumPy\n",
    "v = np.array([1,2,3])\n",
    "result = 2 * v\n",
    "print(\"NumPy result : {}\".format(result))\n",
    "\n",
    "# PyTorch\n",
    "v = torch.tensor([1,2,3])\n",
    "result = 2 * v\n",
    "print(\"PyTorch result : {}\".format(result))\n",
    "\n",
    "# TensorFlow\n",
    "v = tf.constant([1,2,3])\n",
    "result = 2 * v\n",
    "print(\"TensorFlow result : {}\".format(result))"
   ]
  },
  {
   "cell_type": "markdown",
   "id": "974e1837",
   "metadata": {},
   "source": [
    "**Dot Product (Scalar Product)**"
   ]
  },
  {
   "cell_type": "code",
   "execution_count": 15,
   "id": "3e20fe43",
   "metadata": {},
   "outputs": [
    {
     "name": "stdout",
     "output_type": "stream",
     "text": [
      "NumPy result : 32\n",
      "PyTorch result : 32\n",
      "TensorFlow result : 32\n"
     ]
    }
   ],
   "source": [
    "# NumPy\n",
    "v1 = np.array([1,2,3])\n",
    "v2 = np.array([4,5,6])\n",
    "result = np.dot(v1, v2)\n",
    "print(\"NumPy result : {}\".format(result))\n",
    "\n",
    "# PyTorch\n",
    "v1 = torch.tensor([1,2,3])\n",
    "v2 = torch.tensor([4,5,6])\n",
    "result = torch.dot(v1, v2)\n",
    "print(\"PyTorch result : {}\".format(result))\n",
    "\n",
    "# TensorFlow\n",
    "v1 = tf.constant([1,2,3])\n",
    "v2 = tf.constant([4,5,6])\n",
    "result = tf.tensordot(v1, v2, axes=1)\n",
    "print(\"TensorFlow result : {}\".format(result))"
   ]
  },
  {
   "cell_type": "markdown",
   "id": "9126a915",
   "metadata": {},
   "source": [
    "**Cross Product (Vector Product)**"
   ]
  },
  {
   "cell_type": "code",
   "execution_count": 20,
   "id": "fe8175b9",
   "metadata": {},
   "outputs": [
    {
     "name": "stdout",
     "output_type": "stream",
     "text": [
      "NumPy result : [-3  6 -3]\n",
      "PyTorch result : tensor([-3,  6, -3])\n"
     ]
    }
   ],
   "source": [
    "# NumPy\n",
    "v1 = np.array([1,2,3])\n",
    "v2 = np.array([4,5,6])\n",
    "result = np.cross(v1, v2)\n",
    "print(\"NumPy result : {}\".format(result))\n",
    "\n",
    "# PyTorch\n",
    "v1 = torch.tensor([1,2,3])\n",
    "v2 = torch.tensor([4,5,6])\n",
    "result = torch.cross(v1, v2)\n",
    "print(\"PyTorch result : {}\".format(result))"
   ]
  },
  {
   "cell_type": "markdown",
   "id": "0a96539c",
   "metadata": {},
   "source": [
    "## 2. Vector Transposition\n",
    "\n",
    "Transposing a vector means flipping its orientation. If you have a row vector, transposing it will turn it into a column vector, and vice versa.\n",
    "\n",
    "The transposition of vector **V** is denoted by $V^{T}$\n",
    "\n",
    "Transposition is commonly used in matrix multiplication and finding correlations between variables.\n",
    "\n",
    "$ V = \\begin{bmatrix}\n",
    "v1 \\\\\n",
    "v2 \\\\\n",
    "v3 \\\\\n",
    "\\end{bmatrix} $\n",
    "\n",
    "$ V^{T}= \\begin{bmatrix}\n",
    "v1 &\n",
    "v2 &\n",
    "v3 \\\\\n",
    "\\end{bmatrix}$\n",
    "\n",
    "Transposition is commonly used in matrix multiplication and finding correlations between variables.\n"
   ]
  },
  {
   "cell_type": "code",
   "execution_count": 23,
   "id": "c352094f",
   "metadata": {},
   "outputs": [
    {
     "name": "stdout",
     "output_type": "stream",
     "text": [
      "Row Vector : [[1 2 3]]\n",
      "NumPy result : [[1]\n",
      " [2]\n",
      " [3]]\n",
      "PyTorch result : tensor([[1.],\n",
      "        [2.],\n",
      "        [3.]])\n",
      "TensorFlow result : [[1]\n",
      " [2]\n",
      " [3]]\n"
     ]
    }
   ],
   "source": [
    "# NumPy\n",
    "vector = np.array([[1, 2, 3]])\n",
    "transposed_vector = vector.T\n",
    "print(\"Row Vector : {}\".format(vector))\n",
    "print(\"NumPy result : {}\".format(transposed_vector))\n",
    "\n",
    "# PyTorch\n",
    "vector = torch.Tensor([[1, 2, 3]])\n",
    "transposed_vector = vector.T\n",
    "print(\"PyTorch result : {}\".format(transposed_vector))\n",
    "\n",
    "# TensorFlow\n",
    "vector = tf.constant([[1, 2, 3]])\n",
    "transposed_vector = tf.transpose(vector)\n",
    "print(\"TensorFlow result : {}\".format(transposed_vector))"
   ]
  },
  {
   "cell_type": "markdown",
   "id": "ca4abdc7",
   "metadata": {},
   "source": [
    "---\n",
    "\n",
    "# Norms - L1 and L2 Norms\n",
    "\n",
    "The norm of a vector provides a measure of its length or magnitude. In data science, norms are useful for understanding the scale of vectors, like the weights in a neural network or the error in a regression model.\n",
    "\n",
    "### L1 and L2 Norms\n",
    "\n",
    "The two most common norms are the L1 and L2 norms:\n",
    "\n",
    "**L1 Norm**: Sum of absolute values of the components.\n",
    "\n",
    "$∣∣V∣∣1 = ∣v1| + ∣v2∣ + ∣v3∣$\n",
    "\n",
    "**L2 Norm**: Square root of the sum of squared components (Euclidean norm).\n",
    "\n",
    "$∣∣V∣∣2 = \\sqrt[]{v_1^2 + v_2^2 +v_3^2}$\n",
    "\n",
    "\n",
    " \n"
   ]
  },
  {
   "cell_type": "code",
   "execution_count": 25,
   "id": "454595dd",
   "metadata": {},
   "outputs": [
    {
     "name": "stdout",
     "output_type": "stream",
     "text": [
      "L1 norm using numpy: 6.0\n",
      "L2 norm using numpy: 3.7416573867739413\n"
     ]
    }
   ],
   "source": [
    "# Numpy\n",
    "\n",
    "vec = np.array([1, -2, 3])\n",
    "\n",
    "# L1 norm\n",
    "l1_norm_numpy = np.linalg.norm(vec, ord=1)\n",
    "print(f\"L1 norm using numpy: {l1_norm_numpy}\")\n",
    "\n",
    "# L2 norm\n",
    "l2_norm_numpy = np.linalg.norm(vec, ord=2)\n",
    "print(f\"L2 norm using numpy: {l2_norm_numpy}\")"
   ]
  },
  {
   "cell_type": "code",
   "execution_count": 26,
   "id": "6cb84870",
   "metadata": {},
   "outputs": [
    {
     "name": "stdout",
     "output_type": "stream",
     "text": [
      "L1 norm using PyTorch: 6.0\n",
      "L2 norm using PyTorch: 3.7416574954986572\n"
     ]
    }
   ],
   "source": [
    "# PyTorch\n",
    "\n",
    "vec_torch = torch.tensor([1, -2, 3], dtype=torch.float32)\n",
    "\n",
    "# L1 norm\n",
    "l1_norm_pytorch = torch.norm(vec_torch, p=1)\n",
    "print(f\"L1 norm using PyTorch: {l1_norm_pytorch.item()}\")\n",
    "\n",
    "# L2 norm\n",
    "l2_norm_pytorch = torch.norm(vec_torch, p=2)\n",
    "print(f\"L2 norm using PyTorch: {l2_norm_pytorch.item()}\")"
   ]
  },
  {
   "cell_type": "code",
   "execution_count": 27,
   "id": "36de9d2a",
   "metadata": {},
   "outputs": [
    {
     "name": "stdout",
     "output_type": "stream",
     "text": [
      "L1 norm using TensorFlow: 6.0\n",
      "L2 norm using TensorFlow: 3.7416574954986572\n"
     ]
    }
   ],
   "source": [
    "# TensorFlow\n",
    "\n",
    "vec_tf = tf.constant([1, -2, 3], dtype=tf.float32)\n",
    "\n",
    "# L1 norm\n",
    "l1_norm_tensorflow = tf.norm(vec_tf, ord=1)\n",
    "print(f\"L1 norm using TensorFlow: {l1_norm_tensorflow.numpy()}\")\n",
    "\n",
    "# L2 norm\n",
    "l2_norm_tensorflow = tf.norm(vec_tf, ord=2)\n",
    "print(f\"L2 norm using TensorFlow: {l2_norm_tensorflow.numpy()}\")"
   ]
  },
  {
   "cell_type": "markdown",
   "id": "91174f31",
   "metadata": {},
   "source": [
    "## 4. Unit Vectors\n",
    "\n",
    "A unit vector is a vector with a length or norm of 1. Unit vectors are important for providing direction without a specific magnitude. They are used in various data science applications, such as feature scaling and direction cosines.\n",
    "\n",
    "To convert a vector into a unit vector, divide it by its magnitude:\n",
    "\n",
    "## $\\hat{V} = \\frac{V}{||V||}$\n"
   ]
  },
  {
   "cell_type": "code",
   "execution_count": 28,
   "id": "f7dff3db",
   "metadata": {},
   "outputs": [
    {
     "name": "stdout",
     "output_type": "stream",
     "text": [
      "NumPy Unit Vector: [0.26726124 0.53452248 0.80178373]\n"
     ]
    }
   ],
   "source": [
    "# Numpy\n",
    "\n",
    "# Create a vector\n",
    "vector = np.array([1, 2, 3])\n",
    "\n",
    "# Normalize the vector to get the unit vector\n",
    "unit_vector = vector / np.linalg.norm(vector)\n",
    "\n",
    "print(\"NumPy Unit Vector:\", unit_vector)"
   ]
  },
  {
   "cell_type": "code",
   "execution_count": 29,
   "id": "5a5528a3",
   "metadata": {},
   "outputs": [
    {
     "name": "stdout",
     "output_type": "stream",
     "text": [
      "PyTorch Unit Vector: tensor([0.2673, 0.5345, 0.8018])\n"
     ]
    }
   ],
   "source": [
    "# PyTorch\n",
    "\n",
    "# Create a vector\n",
    "vector = torch.tensor([1.0, 2.0, 3.0])\n",
    "\n",
    "# Normalize the vector to get the unit vector\n",
    "unit_vector = vector / torch.norm(vector)\n",
    "\n",
    "print(\"PyTorch Unit Vector:\", unit_vector)"
   ]
  },
  {
   "cell_type": "code",
   "execution_count": 30,
   "id": "ede2393a",
   "metadata": {},
   "outputs": [
    {
     "name": "stdout",
     "output_type": "stream",
     "text": [
      "TensorFlow Unit Vector: [0.26726124 0.5345225  0.8017837 ]\n"
     ]
    }
   ],
   "source": [
    "# TensorFlow\n",
    "\n",
    "# Create a vector\n",
    "vector = tf.constant([1.0, 2.0, 3.0])\n",
    "\n",
    "# Normalize the vector to get the unit vector\n",
    "unit_vector = vector / tf.norm(vector)\n",
    "\n",
    "# For TensorFlow 2.x:\n",
    "print(\"TensorFlow Unit Vector:\", unit_vector.numpy())"
   ]
  },
  {
   "cell_type": "markdown",
   "id": "e421b55a",
   "metadata": {},
   "source": [
    "## Conclusion\n",
    "\n",
    "Vectors, or first-order tensors, are foundational to understanding higher-dimensional tensors and are omnipresent in various scientific computations. Their operations, such as transposition, finding norms, and deriving unit vectors, are fundamental to advanced mathematics and physics. \n",
    "\n",
    "Understanding these concepts is pivotal for anyone diving into linear algebra, data science, quantum mechanics, and numerous other fields."
   ]
  }
 ],
 "metadata": {
  "kernelspec": {
   "display_name": "Python 3 (ipykernel)",
   "language": "python",
   "name": "python3"
  },
  "language_info": {
   "codemirror_mode": {
    "name": "ipython",
    "version": 3
   },
   "file_extension": ".py",
   "mimetype": "text/x-python",
   "name": "python",
   "nbconvert_exporter": "python",
   "pygments_lexer": "ipython3",
   "version": "3.11.4"
  }
 },
 "nbformat": 4,
 "nbformat_minor": 5
}
