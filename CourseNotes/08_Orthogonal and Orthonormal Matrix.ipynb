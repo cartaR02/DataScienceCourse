{
 "cells": [
  {
   "cell_type": "markdown",
   "id": "da8b8689",
   "metadata": {},
   "source": [
    "# Orthogonal Matrix - Detailed Understanding on Orthogonal and Orthonormal Second Order Matrices\n",
    "\n",
    "Welcome to a deep dive into the concepts of orthogonal and orthonormal second-order matrices. By the end of this notebook, you'll understand what these terms mean, their significance in data science, and see them in action with some clear examples.\n",
    "\n",
    "## Introduction\n",
    "\n",
    "In linear algebra and data science, the concept of orthogonality is fundamental. This idea extends to matrices, where we encounter terms like orthogonal and orthonormal matrices. A second-order matrix, also known as a $2 \\times 2$ matrix, has two rows and two columns. Let's delve into the definitions:\n",
    "\n",
    "## Definitions\n",
    "\n",
    "1. **Orthogonal Matrix**: A square matrix $A$ is orthogonal if its transpose $A^T$ is also its inverse $A^{-1}$. This means:\n",
    "$A^T A = AA^T = I$\n",
    "Where $I$ is the identity matrix.\n",
    "\n",
    "2. **Orthonormal Matrix**: It's a special kind of orthogonal matrix where the columns (or rows) are not just orthogonal (perpendicular) to each other but also have unit length. For a $2 \\times 2$ matrix, this means:\n",
    "$ \\begin{bmatrix}\n",
    "a & b \\\\\n",
    "c & d \\\\\n",
    "\\end{bmatrix} $\n",
    "\n",
    "The columns $[a, c]^T$ and $[b, d]^T$ are orthogonal and their norms (lengths) are both equal to 1.\n",
    "\n",
    "## Why are they important?\n",
    "\n",
    "Orthogonal matrices have some beautiful properties:\n",
    "\n",
    "- Their eigenvalues have a magnitude of 1.\n",
    "- They preserve the length of vectors when used for transformations.\n",
    "- The determinant of an orthogonal matrix is always +1 or -1.\n",
    "\n",
    "These properties have found numerous applications in data science, such as in principal component analysis (PCA), QR decomposition, and some algorithms in machine learning."
   ]
  },
  {
   "cell_type": "markdown",
   "id": "a32fd4fb",
   "metadata": {},
   "source": [
    "## 1. Orthogonal Matrix\n",
    "A square matrix $A$ is orthogonal if its transpose $A^T$ is also its inverse $A^{-1}$. This means:\n",
    "$A^T A = AA^T = I$\n",
    "\n",
    "Where $I$ is the identity matrix.\n",
    "\n",
    "## Example:\n",
    "\n",
    "Consider the matrix:\n",
    "$ A = \\begin{bmatrix}\n",
    "\\frac{3}{5} & \\frac{4}{5} \\\\\n",
    "\\frac{4}{5} & -\\frac{3}{5} \\\\\n",
    "\\end{bmatrix} $\n",
    "\n",
    "### Verification:\n",
    "\n",
    "To verify if this is orthogonal, we should compute the product $A^T A$:\n",
    "\n",
    "$ \n",
    "A^T = \\begin{bmatrix}\n",
    "\\frac{3}{5} & \\frac{4}{5} \\\\\n",
    "\\frac{4}{5} & -\\frac{3}{5} \\\\\n",
    "\\end{bmatrix} \n",
    "$\n"
   ]
  },
  {
   "cell_type": "markdown",
   "id": "71dc664d",
   "metadata": {},
   "source": [
    "$ \n",
    "A^T A = \\begin{bmatrix}\n",
    "\\frac{3}{5} & \\frac{4}{5} \\\\\n",
    "\\frac{4}{5} & -\\frac{3}{5} \\\\\n",
    "\\end{bmatrix}\n",
    "$\n",
    "\n",
    "$\n",
    "\\times\n",
    "\\begin{bmatrix}\n",
    "\\frac{3}{5} & \\frac{4}{5} \\\\\n",
    "\\frac{4}{5} & -\\frac{3}{5} \\\\\n",
    "\\end{bmatrix}\n",
    "$\n",
    "\n",
    "\n",
    "$\n",
    "\\begin{bmatrix}\n",
    "1 & 0 \\\\\n",
    "0 & 1 \\\\\n",
    "\\end{bmatrix}\n",
    "= I \n",
    "$"
   ]
  },
  {
   "cell_type": "code",
   "execution_count": 1,
   "id": "028098d8",
   "metadata": {},
   "outputs": [
    {
     "name": "stdout",
     "output_type": "stream",
     "text": [
      "Matrix A is orthogonal: True\n"
     ]
    }
   ],
   "source": [
    "import numpy as np\n",
    "\n",
    "# Define the matrix A as mentioned in the post\n",
    "A = np.array([[3/5, 4/5], [4/5, -3/5]])\n",
    "\n",
    "# Verify if the matrix is orthogonal\n",
    "A_transpose = A.T\n",
    "product = np.dot(A_transpose, A)\n",
    "identity_matrix = np.identity(2)\n",
    "\n",
    "is_orthogonal = np.allclose(product, identity_matrix)  # Check if product is close to identity matrix\n",
    "print(f\"Matrix A is orthogonal: {is_orthogonal}\")"
   ]
  },
  {
   "cell_type": "code",
   "execution_count": 2,
   "id": "88c56693",
   "metadata": {},
   "outputs": [
    {
     "name": "stdout",
     "output_type": "stream",
     "text": [
      "Eigenvalues have magnitude of 1: True\n",
      "Determinant of A is +1 or -1: True\n"
     ]
    }
   ],
   "source": [
    "# Properties of Orthogonal matrices\n",
    "eigenvalues = np.linalg.eigvals(A)\n",
    "are_eigenvalues_unit_magnitude = np.allclose(np.abs(eigenvalues), 1)\n",
    "\n",
    "determinant = np.linalg.det(A)\n",
    "is_determinant_plus_minus_one = np.isclose(np.abs(determinant), 1)\n",
    "\n",
    "print(f\"Eigenvalues have magnitude of 1: {are_eigenvalues_unit_magnitude}\")\n",
    "print(f\"Determinant of A is +1 or -1: {is_determinant_plus_minus_one}\")"
   ]
  },
  {
   "cell_type": "markdown",
   "id": "41f43627",
   "metadata": {},
   "source": [
    "## 2. Orthonormality:\n",
    "\n",
    "It's a special kind of orthogonal matrix where the columns (or rows) are not just orthogonal (perpendicular) to each other but also have unit length. For a $2 \\times 2$ matrix, this means:\n",
    "$ \\begin{bmatrix}\n",
    "a & b \\\\\n",
    "c & d \\\\\n",
    "\\end{bmatrix} $\n",
    "\n",
    "The column vectors $[ \\frac{3}{5}, \\frac{4}{5}]^T$ and $[\\frac{4}{5}, -\\frac{3}{5}]^T$ are orthogonal since their dot product is zero.\n",
    "\n",
    "The lengths (or norms) of the vectors are:\n",
    "$ \\sqrt{ (\\frac{3}{5})^2 + (\\frac{4}{5})^2 } = 1 $\n",
    "$ \\sqrt{ (\\frac{4}{5})^2 + (-\\frac{3}{5})^2 } = 1 $\n",
    "\n",
    "As both columns are orthogonal with unit norms, our matrix \\(A\\) is orthonormal."
   ]
  },
  {
   "cell_type": "code",
   "execution_count": 3,
   "id": "1f26313d",
   "metadata": {},
   "outputs": [
    {
     "name": "stdout",
     "output_type": "stream",
     "text": [
      "Columns of Matrix A are orthonormal: True\n"
     ]
    }
   ],
   "source": [
    "# Check orthonormality of columns\n",
    "col1 = A[:, 0]\n",
    "col2 = A[:, 1]\n",
    "\n",
    "dot_product = np.dot(col1, col2)\n",
    "is_orthogonal_cols = np.isclose(dot_product, 0)  # Columns are orthogonal if their dot product is close to 0\n",
    "\n",
    "norm_col1 = np.linalg.norm(col1)\n",
    "norm_col2 = np.linalg.norm(col2)\n",
    "is_unit_norms = np.isclose(norm_col1, 1) and np.isclose(norm_col2, 1)  # Check if norms are close to 1\n",
    "\n",
    "is_orthonormal = is_orthogonal_cols and is_unit_norms\n",
    "print(f\"Columns of Matrix A are orthonormal: {is_orthonormal}\")"
   ]
  },
  {
   "cell_type": "markdown",
   "id": "a1be8ef4",
   "metadata": {},
   "source": [
    "## Significance in Data Science:\n",
    "\n",
    "1. **Data Transformation**: Orthogonal matrices are used for transforming data without distortion. This is particularly useful in PCA where we aim to reduce dimensionality while preserving as much data variance as possible.\n",
    "\n",
    "2. **Stability**: Orthogonal transformations are numerically stable, which is beneficial when dealing with large datasets or when precision is crucial.\n",
    "\n",
    "3. **Decompositions**: Orthogonal matrices are crucial in the QR decomposition, which splits a matrix into an orthogonal matrix and an upper triangular matrix. This decomposition is foundational in many algorithms.\n",
    "\n",
    "## Conclusion:\n",
    "\n",
    "Orthogonal and orthonormal matrices play a pivotal role in the world of data science and linear algebra. Their properties of preserving vector lengths and angles are invaluable in various applications, ensuring data integrity and precision in transformations. Understanding these concepts can unlock a deeper comprehension of numerous algorithms and methodologies in data science."
   ]
  }
 ],
 "metadata": {
  "kernelspec": {
   "display_name": "Python 3 (ipykernel)",
   "language": "python",
   "name": "python3"
  },
  "language_info": {
   "codemirror_mode": {
    "name": "ipython",
    "version": 3
   },
   "file_extension": ".py",
   "mimetype": "text/x-python",
   "name": "python",
   "nbconvert_exporter": "python",
   "pygments_lexer": "ipython3",
   "version": "3.11.4"
  }
 },
 "nbformat": 4,
 "nbformat_minor": 5
}
